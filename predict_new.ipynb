{
 "cells": [
  {
   "cell_type": "code",
   "execution_count": 2,
   "metadata": {},
   "outputs": [],
   "source": [
    "import numpy as np\n",
    "import torch\n",
    "from torch import nn\n",
    "import os\n",
    "import glob"
   ]
  },
  {
   "cell_type": "code",
   "execution_count": 3,
   "metadata": {},
   "outputs": [],
   "source": [
    "from NeurIPS_2024.utility import predict_fuc, load_best_model\n",
    "from NeurIPS_2024.linear_MLP import MLP"
   ]
  },
  {
   "cell_type": "code",
   "execution_count": 4,
   "metadata": {},
   "outputs": [
    {
     "name": "stdout",
     "output_type": "stream",
     "text": [
      "Best model loaded.\n"
     ]
    }
   ],
   "source": [
    "batch_size = 1\n",
    "model = MLP().cuda()\n",
    "optimizer = torch.optim.Adam(model.parameters(), lr=1e-4)\n",
    "# model, optimizer, best_val_loss, target_min, target_max = load_best_model(\n",
    "#     model, optimizer,\n",
    "#     '/kaggle/input/noisereduction/pytorch/default/1/best_model_NR_v2.0.pth')\n",
    "model, optimizer, best_val_loss, target_min, target_max = load_best_model(\n",
    "    model, optimizer, 'best_model_LR_v1.0.pth')"
   ]
  },
  {
   "cell_type": "code",
   "execution_count": 1,
   "metadata": {},
   "outputs": [
    {
     "data": {
      "application/vnd.jupyter.widget-view+json": {
       "model_id": "64d026310b3f4366be97d4c02e82f02b",
       "version_major": 2,
       "version_minor": 0
      },
      "text/plain": [
       "QUEUEING TASKS | :   0%|          | 0/673 [00:00<?, ?it/s]"
      ]
     },
     "metadata": {},
     "output_type": "display_data"
    },
    {
     "data": {
      "application/vnd.jupyter.widget-view+json": {
       "model_id": "7f706eb5742c4e438cd9048faeac4c0e",
       "version_major": 2,
       "version_minor": 0
      },
      "text/plain": [
       "PROCESSING TASKS | :   0%|          | 0/673 [00:00<?, ?it/s]"
      ]
     },
     "metadata": {},
     "output_type": "display_data"
    },
    {
     "data": {
      "application/vnd.jupyter.widget-view+json": {
       "model_id": "8aa0732132ff4557bae6aa5912b01dd1",
       "version_major": 2,
       "version_minor": 0
      },
      "text/plain": [
       "COLLECTING RESULTS | :   0%|          | 0/673 [00:00<?, ?it/s]"
      ]
     },
     "metadata": {},
     "output_type": "display_data"
    },
    {
     "data": {
      "application/vnd.jupyter.widget-view+json": {
       "model_id": "e8dfe790f1a04f10bebfb5758916b40b",
       "version_major": 2,
       "version_minor": 0
      },
      "text/plain": [
       "QUEUEING TASKS | :   0%|          | 0/673 [00:00<?, ?it/s]"
      ]
     },
     "metadata": {},
     "output_type": "display_data"
    },
    {
     "data": {
      "application/vnd.jupyter.widget-view+json": {
       "model_id": "2ea431bca8504dbb900187c9b870a936",
       "version_major": 2,
       "version_minor": 0
      },
      "text/plain": [
       "PROCESSING TASKS | :   0%|          | 0/673 [00:00<?, ?it/s]"
      ]
     },
     "metadata": {},
     "output_type": "display_data"
    },
    {
     "data": {
      "application/vnd.jupyter.widget-view+json": {
       "model_id": "47b65dabfc6d41e094614d5ca5c36e64",
       "version_major": 2,
       "version_minor": 0
      },
      "text/plain": [
       "COLLECTING RESULTS | :   0%|          | 0/673 [00:00<?, ?it/s]"
      ]
     },
     "metadata": {},
     "output_type": "display_data"
    },
    {
     "ename": "NameError",
     "evalue": "name 'np' is not defined",
     "output_type": "error",
     "traceback": [
      "\u001b[1;31m---------------------------------------------------------------------------\u001b[0m",
      "\u001b[1;31mNameError\u001b[0m                                 Traceback (most recent call last)",
      "Cell \u001b[1;32mIn[1], line 5\u001b[0m\n\u001b[0;32m      2\u001b[0m \u001b[38;5;28;01mfrom\u001b[39;00m \u001b[38;5;21;01mNeurIPS_2024\u001b[39;00m\u001b[38;5;21;01m.\u001b[39;00m\u001b[38;5;21;01mutility\u001b[39;00m \u001b[38;5;28;01mimport\u001b[39;00m cal_flux, predict_spectra\n\u001b[0;32m      4\u001b[0m predictions_spectra_test \u001b[38;5;241m=\u001b[39m preprocess_pro(\u001b[38;5;124m'\u001b[39m\u001b[38;5;124mtest\u001b[39m\u001b[38;5;124m'\u001b[39m)\n\u001b[1;32m----> 5\u001b[0m wave_alpha_test \u001b[38;5;241m=\u001b[39m \u001b[43mnp\u001b[49m\u001b[38;5;241m.\u001b[39marray([\n\u001b[0;32m      6\u001b[0m     cal_flux(predictions_spectra_test[i])\n\u001b[0;32m      7\u001b[0m     \u001b[38;5;28;01mfor\u001b[39;00m i \u001b[38;5;129;01min\u001b[39;00m \u001b[38;5;28mrange\u001b[39m(\u001b[38;5;28mlen\u001b[39m(predictions_spectra_test))\n\u001b[0;32m      8\u001b[0m ])\n\u001b[0;32m      9\u001b[0m whitelight_s_test \u001b[38;5;241m=\u001b[39m np\u001b[38;5;241m.\u001b[39marray([\n\u001b[0;32m     10\u001b[0m     predict_spectra(predictions_spectra_test[i])\n\u001b[0;32m     11\u001b[0m     \u001b[38;5;28;01mfor\u001b[39;00m i \u001b[38;5;129;01min\u001b[39;00m \u001b[38;5;28mrange\u001b[39m(\u001b[38;5;28mlen\u001b[39m(predictions_spectra_test))\n\u001b[0;32m     12\u001b[0m ])  \u001b[38;5;66;03m# 预测每个星球的白光缩放比例S\u001b[39;00m\n\u001b[0;32m     13\u001b[0m b \u001b[38;5;241m=\u001b[39m \u001b[38;5;241m0.007255\u001b[39m\n",
      "\u001b[1;31mNameError\u001b[0m: name 'np' is not defined"
     ]
    }
   ],
   "source": [
    "from NeurIPS_2024.linear_process import preprocess_pro\n",
    "from NeurIPS_2024.utility import cal_flux, predict_spectra\n",
    "\n",
    "predictions_spectra_test = preprocess_pro('test')\n"
   ]
  },
  {
   "cell_type": "code",
   "execution_count": 5,
   "metadata": {},
   "outputs": [],
   "source": [
    "wave_alpha_test = np.array([\n",
    "    cal_flux(predictions_spectra_test[i])\n",
    "    for i in range(len(predictions_spectra_test))\n",
    "])\n",
    "whitelight_s_test = np.array([\n",
    "    predict_spectra(predictions_spectra_test[i])\n",
    "    for i in range(len(predictions_spectra_test))\n",
    "])  # 预测每个星球的白光缩放比例S\n",
    "b = 0.007255\n",
    "a = 0.000375\n",
    "whitelight_s_test_normalized = (whitelight_s_test - a) / (b - a)\n",
    "whitelight_s_test_reshaped = whitelight_s_test_normalized[:, np.newaxis]\n",
    "data_test_reshaped = np.concatenate(\n",
    "    [np.stack(wave_alpha_test),\n",
    "     np.stack(whitelight_s_test_reshaped)],\n",
    "    axis=1  # 按第 2 维度（axis=1）进行合并，以便后续一起处理\n",
    ")\n",
    "data_test_reshaped = torch.tensor(data_test_reshaped).float()"
   ]
  },
  {
   "cell_type": "code",
   "execution_count": 6,
   "metadata": {},
   "outputs": [],
   "source": [
    "all_predictions = predict_fuc(model, data_test_reshaped, batch_size=1)\n",
    "all_predictions = all_predictions * (target_max - target_min) + target_min\n",
    "all_predictions = all_predictions.numpy()"
   ]
  },
  {
   "cell_type": "code",
   "execution_count": 7,
   "metadata": {},
   "outputs": [],
   "source": [
    "from NeurIPS_2024.utility import postprocessing, competition_score\n",
    "import pandas as pd\n",
    "\n",
    "wavelengths = pd.read_csv(\n",
    "    '/kaggle/input/ariel-data-challenge-2024/wavelengths.csv')\n",
    "test_adc_info = pd.read_csv(\n",
    "    '/kaggle/input/ariel-data-challenge-2024/test_adc_info.csv',\n",
    "    index_col='planet_id')\n",
    "train_labels = pd.read_csv(\n",
    "    '/kaggle/input/ariel-data-challenge-2024/train_labels.csv',\n",
    "    index_col='planet_id')"
   ]
  },
  {
   "cell_type": "code",
   "execution_count": 8,
   "metadata": {},
   "outputs": [],
   "source": [
    "sub_df = postprocessing(all_predictions,\n",
    "                        wavelengths,\n",
    "                        test_adc_info.index,\n",
    "                        sigma_pred=np.tile(\n",
    "                            np.where(test_adc_info[['star']] <= 1, 0.000067,\n",
    "                                     0.001), (1, 283)))"
   ]
  },
  {
   "cell_type": "code",
   "execution_count": 9,
   "metadata": {},
   "outputs": [
    {
     "name": "stdout",
     "output_type": "stream",
     "text": [
      "# Estimated competition score: 0.574\n"
     ]
    }
   ],
   "source": [
    "gll_score = competition_score(train_labels.copy().reset_index(),\n",
    "                              sub_df.copy().reset_index(),\n",
    "                              naive_mean=train_labels.values.mean(),\n",
    "                              naive_sigma=train_labels.values.std(),\n",
    "                              sigma_true=0.00001)\n",
    "print(f\"# Estimated competition score: {gll_score:.3f}\")"
   ]
  },
  {
   "cell_type": "code",
   "execution_count": 10,
   "metadata": {},
   "outputs": [],
   "source": [
    "from sklearn.metrics import r2_score, mean_squared_error\n",
    "\n",
    "auxiliary_folder = 'input/ariel-data-challenge-2024/'\n",
    "train_solution = np.loadtxt(f'{auxiliary_folder}/train_labels.csv',\n",
    "                            delimiter=',',\n",
    "                            skiprows=1)\n",
    "\n",
    "targets = train_solution[:, 1:]"
   ]
  },
  {
   "cell_type": "code",
   "execution_count": 11,
   "metadata": {},
   "outputs": [
    {
     "name": "stdout",
     "output_type": "stream",
     "text": [
      "# R2 score: 0.998\n",
      "# Root mean squared error: 0.000067\n"
     ]
    }
   ],
   "source": [
    "print(f\"# R2 score: {r2_score(targets, all_predictions):.3f}\")\n",
    "sigma_pred = mean_squared_error(targets, all_predictions, squared=False)\n",
    "print(f\"# Root mean squared error: {sigma_pred:.6f}\")"
   ]
  },
  {
   "cell_type": "code",
   "execution_count": 8,
   "metadata": {},
   "outputs": [
    {
     "data": {
      "image/png": "[encoded data removed]",
      "text/plain": [
       "<Figure size 640x480 with 1 Axes>"
      ]
     },
     "metadata": {},
     "output_type": "display_data"
    }
   ],
   "source": [
    "import matplotlib.pyplot as plt\n",
    "\n",
    "col = 1\n",
    "plt.scatter(all_predictions[:, col], targets[:, col], s=15, c='lightgreen')\n",
    "plt.gca().set_aspect('equal')\n",
    "plt.xlabel('y_pred')\n",
    "plt.ylabel('y_true')\n",
    "plt.title('Comparing y_true and y_pred')\n",
    "plt.show()"
   ]
  },
  {
   "cell_type": "code",
   "execution_count": 15,
   "metadata": {},
   "outputs": [
    {
     "name": "stdout",
     "output_type": "stream",
     "text": [
      "Outlier lens: 0\n",
      "Outliers: (array([], dtype=int64),)\n"
     ]
    }
   ],
   "source": [
    "import numpy as np\n",
    "from scipy import stats\n",
    "\n",
    "col = 3\n",
    "# 假设 predict_targets 和 targets 是 numpy 数组\n",
    "errors = np.abs(all_predictions[:, col] - targets[:, col])\n",
    "z_scores = np.abs(stats.zscore(errors))\n",
    "\n",
    "# 设置 Z-score 阈值，通常为 3\n",
    "threshold = 3\n",
    "outliers = np.where(z_scores > threshold)\n",
    "\n",
    "# 打印异常值索引\n",
    "print(\"Outlier lens:\", len(outliers[0]))\n",
    "print(\"Outliers:\", outliers)"
   ]
  },
  {
   "cell_type": "code",
   "execution_count": 16,
   "metadata": {},
   "outputs": [
    {
     "data": {
      "image/png": "[encoded data removed]",
      "text/plain": [
       "<Figure size 640x480 with 1 Axes>"
      ]
     },
     "metadata": {},
     "output_type": "display_data"
    }
   ],
   "source": [
    "import matplotlib.pyplot as plt\n",
    "\n",
    "plt.scatter(all_predictions[:, col],\n",
    "            targets[:, col],\n",
    "            s=15,\n",
    "            c='lightgreen',\n",
    "            label='Data Points')\n",
    "plt.scatter(all_predictions[outliers[0], col],\n",
    "            targets[outliers[0], col],\n",
    "            s=50,\n",
    "            c='red',\n",
    "            label='Outliers')\n",
    "plt.gca().set_aspect('equal')\n",
    "plt.xlabel('y_pred')\n",
    "plt.ylabel('y_true')\n",
    "plt.title('Comparing y_true and y_pred with Outliers')\n",
    "plt.legend()\n",
    "plt.show()"
   ]
  },
  {
   "cell_type": "code",
   "execution_count": 17,
   "metadata": {},
   "outputs": [
    {
     "name": "stdout",
     "output_type": "stream",
     "text": [
      "Data point 109 is an outlier in 11 columns and normal in columns: [0, 1, 2, 3, 4, 5, 6, 7, 8, 9, 10, 11, 12, 13, 14, 15, 16, 17, 18, 19, 20, 21, 22, 23, 24, 25, 26, 27, 28, 29, 30, 31, 32, 33, 34, 35, 36, 37, 38, 39, 40, 41, 42, 43, 44, 45, 46, 47, 48, 49, 50, 51, 52, 53, 54, 55, 56, 57, 58, 59, 60, 61, 62, 63, 64, 65, 66, 67, 68, 69, 70, 71, 72, 73, 74, 75, 76, 77, 78, 79, 80, 81, 82, 83, 84, 85, 86, 87, 88, 89, 90, 91, 92, 93, 94, 95, 96, 97, 98, 99, 100, 101, 102, 103, 104, 105, 106, 107, 108, 109, 110, 111, 112, 113, 114, 115, 116, 117, 118, 119, 120, 121, 122, 123, 124, 125, 126, 127, 128, 129, 130, 131, 132, 133, 134, 135, 136, 137, 138, 139, 140, 141, 142, 143, 144, 145, 146, 147, 148, 149, 150, 151, 152, 153, 154, 156, 157, 158, 159, 160, 161, 163, 164, 166, 167, 168, 169, 170, 171, 172, 173, 174, 175, 176, 177, 178, 179, 187, 188, 189, 190, 191, 192, 193, 194, 195, 196, 197, 198, 199, 200, 201, 202, 203, 204, 206, 207, 208, 209, 210, 211, 212, 213, 214, 215, 216, 217, 218, 219, 220, 221, 222, 223, 224, 225, 226, 227, 228, 229, 230, 231, 232, 233, 234, 235, 236, 237, 238, 239, 240, 241, 242, 243, 244, 245, 246, 247, 248, 249, 250, 251, 252, 253, 254, 255, 256, 257, 258, 259, 260, 261, 262, 263, 264, 265, 266, 267, 268, 269, 270, 271, 272, 273, 274, 275, 276, 277, 278, 279, 280, 281, 282]\n",
      "Data point 547 is an outlier in 3 columns and normal in columns: [0, 1, 2, 3, 4, 5, 6, 7, 8, 9, 10, 11, 12, 13, 14, 15, 16, 17, 18, 19, 20, 21, 22, 23, 24, 25, 26, 27, 28, 29, 30, 31, 32, 33, 34, 35, 36, 37, 38, 39, 40, 41, 42, 43, 44, 45, 46, 47, 48, 49, 50, 51, 52, 53, 54, 55, 56, 57, 58, 59, 60, 61, 62, 63, 64, 65, 66, 67, 68, 69, 70, 71, 72, 73, 74, 75, 76, 77, 78, 79, 80, 81, 82, 83, 84, 85, 86, 87, 88, 89, 90, 91, 92, 93, 94, 95, 96, 97, 98, 99, 100, 101, 102, 103, 104, 105, 106, 107, 108, 109, 110, 111, 112, 113, 114, 115, 116, 117, 118, 119, 120, 121, 122, 123, 124, 125, 126, 127, 128, 129, 130, 131, 132, 133, 134, 135, 136, 137, 138, 139, 140, 141, 142, 143, 144, 145, 146, 147, 148, 149, 150, 151, 152, 153, 154, 155, 156, 157, 158, 159, 160, 161, 163, 164, 165, 166, 167, 168, 169, 170, 171, 172, 173, 174, 175, 176, 177, 178, 179, 180, 182, 183, 184, 185, 186, 187, 188, 189, 190, 191, 192, 193, 194, 195, 196, 197, 198, 199, 200, 201, 202, 203, 204, 206, 207, 208, 209, 210, 211, 212, 213, 214, 215, 216, 217, 218, 219, 220, 221, 222, 223, 224, 225, 226, 227, 228, 229, 230, 231, 232, 233, 234, 235, 236, 237, 238, 239, 240, 241, 242, 243, 244, 245, 246, 247, 248, 249, 250, 251, 252, 253, 254, 255, 256, 257, 258, 259, 260, 261, 262, 263, 264, 265, 266, 267, 268, 269, 270, 271, 272, 273, 274, 275, 276, 277, 278, 279, 280, 281, 282]\n"
     ]
    }
   ],
   "source": [
    "import numpy as np\n",
    "from scipy import stats\n",
    "from collections import Counter, defaultdict\n",
    "\n",
    "# 假设 predict_targets 和 targets 是 numpy 数组\n",
    "num_cols = all_predictions.shape[1]\n",
    "threshold = 3\n",
    "outlier_counts = Counter()\n",
    "normal_columns = defaultdict(list)\n",
    "\n",
    "for col in range(num_cols):\n",
    "    errors = np.abs(all_predictions[:, col] - targets[:, col])\n",
    "    z_scores = np.abs(stats.zscore(errors))\n",
    "    outliers = np.where(z_scores > threshold)[0]\n",
    "    normals = np.where(z_scores <= threshold)[0]\n",
    "\n",
    "    # 统计每个异常点的频次\n",
    "    outlier_counts.update(outliers)\n",
    "\n",
    "    # 记录每个数据点在哪些列中是正常的\n",
    "    for normal in normals:\n",
    "        normal_columns[normal].append(col)\n",
    "\n",
    "# 按频次排序\n",
    "sorted_outliers = outlier_counts.most_common()\n",
    "\n",
    "# 打印每个异常点的频次及其正常的列\n",
    "for outlier, count in sorted_outliers:\n",
    "    normal_cols = normal_columns[outlier]\n",
    "    print(\n",
    "        f\"Data point {outlier} is an outlier in {count} columns and normal in columns: {normal_cols}\"\n",
    "    )"
   ]
  }
 ],
 "metadata": {
  "kernelspec": {
   "display_name": "Python 3",
   "language": "python",
   "name": "python3"
  },
  "language_info": {
   "codemirror_mode": {
    "name": "ipython",
    "version": 3
   },
   "file_extension": ".py",
   "mimetype": "text/x-python",
   "name": "python",
   "nbconvert_exporter": "python",
   "pygments_lexer": "ipython3",
   "version": "3.10.9"
  }
 },
 "nbformat": 4,
 "nbformat_minor": 2
}

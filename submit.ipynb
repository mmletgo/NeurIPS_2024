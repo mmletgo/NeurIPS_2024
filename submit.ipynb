{
 "cells": [
  {
   "cell_type": "code",
   "execution_count": 1,
   "metadata": {},
   "outputs": [],
   "source": [
    "import numpy as np\n",
    "import pandas as pd\n",
    "import torch\n",
    "from torch import nn\n",
    "import os\n",
    "import glob"
   ]
  },
  {
   "cell_type": "code",
   "execution_count": 12,
   "metadata": {},
   "outputs": [],
   "source": [
    "from utility import predict_fuc, load_best_model, postprocessing\n",
    "from preprocessing import process_and_memmap_chunks, get_index, del_files, normalize_and_reshape_chunks, preprocess\n",
    "from NoiseReduction import EnhancedTimeWavelengthTransformer"
   ]
  },
  {
   "cell_type": "code",
   "execution_count": 5,
   "metadata": {},
   "outputs": [
    {
     "name": "stdout",
     "output_type": "stream",
     "text": [
      "Directory /kaggle/working/ already exists.\n"
     ]
    }
   ],
   "source": [
    "path_folder = '/kaggle/input/ariel-data-challenge-2024/'  # path to the folder containing the data\n",
    "path_out = '/kaggle/working/'  # path to the folder to store the light data\n",
    "if not os.path.exists(path_out):\n",
    "    os.makedirs(path_out)\n",
    "    print(f\"Directory {path_out} created.\")\n",
    "else:\n",
    "    print(f\"Directory {path_out} already exists.\")\n",
    "output_file = path_out + 'dataset_test.npy'\n",
    "CHUNKS_SIZE = 1"
   ]
  },
  {
   "cell_type": "code",
   "execution_count": 6,
   "metadata": {},
   "outputs": [],
   "source": [
    "files = glob.glob(os.path.join(path_folder + 'test/', '*/*'))\n",
    "files = [file.replace('\\\\', '/') for file in files]\n",
    "index = get_index(files, CHUNKS_SIZE)  ## Adjusted to process the test set"
   ]
  },
  {
   "cell_type": "code",
   "execution_count": null,
   "metadata": {},
   "outputs": [],
   "source": [
    "preprocess(path_folder, path_out, index, CHUNKS_SIZE=CHUNKS_SIZE)"
   ]
  },
  {
   "cell_type": "code",
   "execution_count": 7,
   "metadata": {},
   "outputs": [],
   "source": [
    "# 逐块处理并合并数据\n",
    "dataset_test = process_and_memmap_chunks(path_out, len(index), CHUNKS_SIZE,\n",
    "                                         output_file)\n",
    "# 删除临时文件\n",
    "del_files(path_out + 'AIRS_clean_test', len(index))\n",
    "del_files(path_out + 'FGS1_test', len(index))"
   ]
  },
  {
   "cell_type": "code",
   "execution_count": 13,
   "metadata": {},
   "outputs": [],
   "source": [
    "data_test_reshaped = normalize_and_reshape_chunks(dataset_test,\n",
    "                                                  len(index) * CHUNKS_SIZE)"
   ]
  },
  {
   "cell_type": "code",
   "execution_count": 4,
   "metadata": {},
   "outputs": [
    {
     "name": "stdout",
     "output_type": "stream",
     "text": [
      "Best model loaded.\n"
     ]
    }
   ],
   "source": [
    "batch_size = 1\n",
    "model = EnhancedTimeWavelengthTransformer().cuda()\n",
    "optimizer = torch.optim.Adam(model.parameters(), lr=1e-4)\n",
    "model, optimizer, best_val_loss, target_min, target_max = load_best_model(\n",
    "    model, optimizer,\n",
    "    '/kaggle/input/noisereduction/pytorch/default/1/best_model_NR_v2.0.pth')"
   ]
  },
  {
   "cell_type": "code",
   "execution_count": 14,
   "metadata": {},
   "outputs": [],
   "source": [
    "all_predictions = predict_fuc(model, data_test_reshaped, batch_size=1)\n",
    "all_predictions = all_predictions * (target_max - target_min) + target_min\n",
    "all_predictions = all_predictions.numpy()"
   ]
  },
  {
   "cell_type": "code",
   "execution_count": null,
   "metadata": {},
   "outputs": [],
   "source": [
    "wavelengths = pd.read_csv(\n",
    "    '/kaggle/input/ariel-data-challenge-2024/wavelengths.csv')\n",
    "test_adc_info = pd.read_csv(\n",
    "    '/kaggle/input/ariel-data-challenge-2024/test_adc_info.csv',\n",
    "    index_col='planet_id')"
   ]
  },
  {
   "cell_type": "code",
   "execution_count": null,
   "metadata": {},
   "outputs": [],
   "source": [
    "sub_df = postprocessing(all_predictions,\n",
    "                        wavelengths,\n",
    "                        test_adc_info.index,\n",
    "                        sigma_pred=np.tile(\n",
    "                            np.where(test_adc_info[['star']] <= 1, 0.000171,\n",
    "                                     0.001), (1, 283)))"
   ]
  },
  {
   "cell_type": "code",
   "execution_count": null,
   "metadata": {},
   "outputs": [],
   "source": [
    "display(sub_df)"
   ]
  },
  {
   "cell_type": "code",
   "execution_count": null,
   "metadata": {},
   "outputs": [],
   "source": [
    "sub_df.to_csv('/kaggle/working/submission.csv', index=False)"
   ]
  }
 ],
 "metadata": {
  "kernelspec": {
   "display_name": "Python 3",
   "language": "python",
   "name": "python3"
  },
  "language_info": {
   "codemirror_mode": {
    "name": "ipython",
    "version": 3
   },
   "file_extension": ".py",
   "mimetype": "text/x-python",
   "name": "python",
   "nbconvert_exporter": "python",
   "pygments_lexer": "ipython3",
   "version": "3.10.9"
  }
 },
 "nbformat": 4,
 "nbformat_minor": 2
}
